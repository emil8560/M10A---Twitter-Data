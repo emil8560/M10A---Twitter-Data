{
 "cells": [
  {
   "cell_type": "code",
   "execution_count": 1,
   "metadata": {
    "collapsed": true,
    "pycharm": {
     "name": "#%%\n"
    }
   },
   "outputs": [],
   "source": [
    "import pandas as pd\n",
    "import matplotlib.pyplot as plt\n",
    "import seaborn as sns\n",
    "\n",
    "data_path = \"midlertidigt_data.csv\"\n",
    "df = pd.read_csv(data_path)\n"
   ]
  },
  {
   "cell_type": "code",
   "execution_count": 2,
   "outputs": [
    {
     "data": {
      "text/plain": "   Unnamed: 0               word  likes  retweets  comments    n  avg_likes  \\\n0           1                vej   3430       452       NaN   87         39   \n1           2   miljøministerium     47        13       NaN    1         47   \n2           3  biodiversitetsmål     47        13       NaN    1         47   \n3           4            Danmark  12567      1730       NaN  237         53   \n4           5           beskytte    680        63       NaN    5        136   \n\n   avg_retweets  avg_comments  trafic  \n0             5           NaN    3882  \n1            13           NaN      60  \n2            13           NaN      60  \n3             7           NaN   14297  \n4            13           NaN     743  ",
      "text/html": "<div>\n<style scoped>\n    .dataframe tbody tr th:only-of-type {\n        vertical-align: middle;\n    }\n\n    .dataframe tbody tr th {\n        vertical-align: top;\n    }\n\n    .dataframe thead th {\n        text-align: right;\n    }\n</style>\n<table border=\"1\" class=\"dataframe\">\n  <thead>\n    <tr style=\"text-align: right;\">\n      <th></th>\n      <th>Unnamed: 0</th>\n      <th>word</th>\n      <th>likes</th>\n      <th>retweets</th>\n      <th>comments</th>\n      <th>n</th>\n      <th>avg_likes</th>\n      <th>avg_retweets</th>\n      <th>avg_comments</th>\n      <th>trafic</th>\n    </tr>\n  </thead>\n  <tbody>\n    <tr>\n      <th>0</th>\n      <td>1</td>\n      <td>vej</td>\n      <td>3430</td>\n      <td>452</td>\n      <td>NaN</td>\n      <td>87</td>\n      <td>39</td>\n      <td>5</td>\n      <td>NaN</td>\n      <td>3882</td>\n    </tr>\n    <tr>\n      <th>1</th>\n      <td>2</td>\n      <td>miljøministerium</td>\n      <td>47</td>\n      <td>13</td>\n      <td>NaN</td>\n      <td>1</td>\n      <td>47</td>\n      <td>13</td>\n      <td>NaN</td>\n      <td>60</td>\n    </tr>\n    <tr>\n      <th>2</th>\n      <td>3</td>\n      <td>biodiversitetsmål</td>\n      <td>47</td>\n      <td>13</td>\n      <td>NaN</td>\n      <td>1</td>\n      <td>47</td>\n      <td>13</td>\n      <td>NaN</td>\n      <td>60</td>\n    </tr>\n    <tr>\n      <th>3</th>\n      <td>4</td>\n      <td>Danmark</td>\n      <td>12567</td>\n      <td>1730</td>\n      <td>NaN</td>\n      <td>237</td>\n      <td>53</td>\n      <td>7</td>\n      <td>NaN</td>\n      <td>14297</td>\n    </tr>\n    <tr>\n      <th>4</th>\n      <td>5</td>\n      <td>beskytte</td>\n      <td>680</td>\n      <td>63</td>\n      <td>NaN</td>\n      <td>5</td>\n      <td>136</td>\n      <td>13</td>\n      <td>NaN</td>\n      <td>743</td>\n    </tr>\n  </tbody>\n</table>\n</div>"
     },
     "execution_count": 2,
     "metadata": {},
     "output_type": "execute_result"
    }
   ],
   "source": [
    "df.head()"
   ],
   "metadata": {
    "collapsed": false,
    "pycharm": {
     "name": "#%%\n"
    }
   }
  },
  {
   "cell_type": "code",
   "execution_count": null,
   "outputs": [],
   "source": [
    "df.iloc[5].plot.bar()"
   ],
   "metadata": {
    "collapsed": false,
    "pycharm": {
     "name": "#%%\n"
    }
   }
  }
 ],
 "metadata": {
  "kernelspec": {
   "display_name": "Python 3",
   "language": "python",
   "name": "python3"
  },
  "language_info": {
   "codemirror_mode": {
    "name": "ipython",
    "version": 2
   },
   "file_extension": ".py",
   "mimetype": "text/x-python",
   "name": "python",
   "nbconvert_exporter": "python",
   "pygments_lexer": "ipython2",
   "version": "2.7.6"
  }
 },
 "nbformat": 4,
 "nbformat_minor": 0
}